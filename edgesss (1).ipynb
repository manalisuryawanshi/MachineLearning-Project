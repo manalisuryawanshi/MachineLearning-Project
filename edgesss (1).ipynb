{
 "cells": [
  {
   "cell_type": "code",
   "execution_count": 2,
   "metadata": {},
   "outputs": [],
   "source": [
    "\"\"\"\n",
    "Object Detection using Canny Edge Detection and Contour Analysis\n",
    "\n",
    "This script captures video from the default camera (usually the webcam) and performs the following image processing steps:\n",
    "1. Applies Gaussian Blur to the captured frames to reduce noise.\n",
    "2. Applies Canny Edge Detection to detect edges in the blurred image.\n",
    "3. Finds contours in the edges using OpenCV's findContours method.\n",
    "4. Draws contours on the original image and displays the count of detected contours.\n",
    "\n",
    "Dependencies:\n",
    "- OpenCV: Open Source Computer Vision Library (https://opencv.org/)\n",
    "- NumPy: Fundamental package for scientific computing with Python (https://numpy.org/)\n",
    "- Matplotlib: Plotting library for Python (https://matplotlib.org/)\n",
    "- Imutils: A series of convenience functions to make basic image processing functions such as translation, rotation, resizing, skeletonization, and displaying images (https://github.com/jrosebr1/imutils)\n",
    "\n",
    "Usage:\n",
    "1. Ensure you have the required dependencies installed.\n",
    "2. Run the script.\n",
    "\n",
    "Press 'ESC' to exit the application.\n",
    "\n",
    "Author:\n",
    "[Manali Suryawanshi]\n",
    "\n",
    "\"\"\"\n",
    "import skimage.io as sk\n",
    "import cv2\n",
    "import imutils\n",
    "import numpy as np\n",
    "import matplotlib.pyplot as plt\n",
    "\n",
    "cap=cv2.VideoCapture(0)\n",
    "while(1):\n",
    "    ret,img=cap.read()\n",
    "    blur = cv2.GaussianBlur(img,(5,5),5)\n",
    "   \n",
    "\n",
    "    r, thresh = cv2.threshold(blur, 10, 255, cv2.THRESH_BINARY_INV)\n",
    "   \n",
    "    \n",
    "    edge=cv2.Canny(blur,25,99)\n",
    "    cnts,h = cv2.findContours(edge, cv2.RETR_LIST, cv2.CHAIN_APPROX_SIMPLE)  \n",
    "    nums=str(len(cnts))\n",
    "    cv2.drawContours(img,cnts,-1,(0,0,255),1)\n",
    "    cv2.putText(img,\"total = \"+ nums,(10,25),cv2.FONT_HERSHEY_SIMPLEX,0.7,(0,255,0),2)\n",
    "\n",
    "   \n",
    "    cv2.imshow('Detected2',img)    \n",
    "    k=cv2.waitKey(30) & 0xff\n",
    "    if k== 27:\n",
    "        break\n",
    "       \n",
    "cap.release()\n",
    "cv2.destroyAllWindows()\n"
   ]
  },
  {
   "cell_type": "code",
   "execution_count": null,
   "metadata": {},
   "outputs": [],
   "source": []
  },
  {
   "cell_type": "code",
   "execution_count": null,
   "metadata": {},
   "outputs": [],
   "source": []
  },
  {
   "cell_type": "code",
   "execution_count": null,
   "metadata": {},
   "outputs": [],
   "source": []
  },
  {
   "cell_type": "code",
   "execution_count": null,
   "metadata": {},
   "outputs": [],
   "source": []
  }
 ],
 "metadata": {
  "kernelspec": {
   "display_name": "Python 3",
   "language": "python",
   "name": "python3"
  },
  "language_info": {
   "codemirror_mode": {
    "name": "ipython",
    "version": 3
   },
   "file_extension": ".py",
   "mimetype": "text/x-python",
   "name": "python",
   "nbconvert_exporter": "python",
   "pygments_lexer": "ipython3",
   "version": "3.8.5"
  }
 },
 "nbformat": 4,
 "nbformat_minor": 4
}
